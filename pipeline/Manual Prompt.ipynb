{
  "nbformat": 4,
  "nbformat_minor": 0,
  "metadata": {
    "colab": {
      "provenance": [],
      "collapsed_sections": [
        "0BcdW6dWMwQg",
        "IqQeXobwn-x3"
      ],
      "toc_visible": true
    },
    "kernelspec": {
      "name": "python3",
      "display_name": "Python 3"
    },
    "language_info": {
      "name": "python"
    }
  },
  "cells": [
    {
      "cell_type": "markdown",
      "source": [
        "# Environment Setting"
      ],
      "metadata": {
        "id": "FujpFUZ5n7Rb"
      }
    },
    {
      "cell_type": "code",
      "source": [
        "pip install dspy-ai"
      ],
      "metadata": {
        "collapsed": true,
        "id": "Hej__mUnGn0T"
      },
      "execution_count": null,
      "outputs": []
    },
    {
      "cell_type": "code",
      "source": [
        "!pip install --upgrade openai"
      ],
      "metadata": {
        "id": "LXPLIeBCI2RB",
        "collapsed": true
      },
      "execution_count": null,
      "outputs": []
    },
    {
      "cell_type": "code",
      "source": [
        "import openai\n",
        "from openai import OpenAI\n",
        "import os\n",
        "import pandas as pd\n",
        "import dspy\n",
        "import math"
      ],
      "metadata": {
        "id": "0MF32A6cAEjO"
      },
      "execution_count": null,
      "outputs": []
    },
    {
      "cell_type": "code",
      "source": [
        "trainset = pd.read_csv('trainset.csv')\n",
        "testset = pd.read_csv('testset.csv')"
      ],
      "metadata": {
        "id": "PO4XlcvRst2N"
      },
      "execution_count": null,
      "outputs": []
    },
    {
      "cell_type": "code",
      "source": [
        "validation = pd.read_csv('correct_labels_cleaned.csv')"
      ],
      "metadata": {
        "id": "WT4DMQNuxjYN"
      },
      "execution_count": null,
      "outputs": []
    },
    {
      "cell_type": "code",
      "source": [
        "trainset.columns"
      ],
      "metadata": {
        "colab": {
          "base_uri": "https://localhost:8080/"
        },
        "id": "ci59l-HVCaJ5",
        "outputId": "b1ac3b67-db9d-41c2-bf37-5ad072bc9e19"
      },
      "execution_count": null,
      "outputs": [
        {
          "output_type": "execute_result",
          "data": {
            "text/plain": [
              "Index(['Unnamed: 0', 'restaurant_name', 'Name', 'Profile Location', 'Score',\n",
              "       'Date', 'Elite 24', 'Friends', 'Reviews', 'Photos', 'reserved',\n",
              "       'pictures', 'checkin', 'Comment', 'Helpful', 'Thanks', 'Love this',\n",
              "       'Oh no', 'Reply Date', 'Reply Content'],\n",
              "      dtype='object')"
            ]
          },
          "metadata": {},
          "execution_count": 99
        }
      ]
    },
    {
      "cell_type": "markdown",
      "source": [
        "# the simplest answer"
      ],
      "metadata": {
        "id": "Hk36RscQAsqT"
      }
    },
    {
      "cell_type": "code",
      "source": [
        "def summarization(text):\n",
        "    response = client.chat.completions.create(\n",
        "        model=\"gpt-4o-mini\",  # Use a supported chat model\n",
        "        messages=[\n",
        "            {\"role\": \"system\", \"content\": \"\"\"You are a helpful assistant for analyzing online reviews for restaurants.\n",
        "                                              You will be provided a review for a restaurant in new york city\"\"\"},\n",
        "            {\"role\": \"user\", \"content\": f\"Summarize the business issues and good feedback from the review:\\n\\n{text}\"}\n",
        "        ],\n",
        "        max_tokens=100\n",
        "    )\n",
        "    return response.choices[0].message.content.strip()  # Extract content from the message object"
      ],
      "metadata": {
        "id": "jADQ-uiQAsAe"
      },
      "execution_count": null,
      "outputs": []
    },
    {
      "cell_type": "code",
      "source": [
        "trainset_00 = trainset.copy()\n",
        "trainset_00['summary'] = trainset_00['Comment'].apply(summarize_text)"
      ],
      "metadata": {
        "id": "BMvKSgpKA2Qp"
      },
      "execution_count": null,
      "outputs": []
    },
    {
      "cell_type": "code",
      "source": [
        "trainset_00.columns"
      ],
      "metadata": {
        "colab": {
          "base_uri": "https://localhost:8080/"
        },
        "id": "MiehTSzcCEze",
        "outputId": "f7be74a5-b5bb-4d6b-b04c-2bb73c2c5b84"
      },
      "execution_count": null,
      "outputs": [
        {
          "output_type": "execute_result",
          "data": {
            "text/plain": [
              "Index(['Unnamed: 0', 'restaurant_name', 'Name', 'Profile Location', 'Score',\n",
              "       'Date', 'Elite 24', 'Friends', 'Reviews', 'Photos', 'reserved',\n",
              "       'pictures', 'checkin', 'Comment', 'Helpful', 'Thanks', 'Love this',\n",
              "       'Oh no', 'Reply Date', 'Reply Content', 'topics', 'summary'],\n",
              "      dtype='object')"
            ]
          },
          "metadata": {},
          "execution_count": 92
        }
      ]
    },
    {
      "cell_type": "code",
      "source": [
        "testset_00 = testset.copy()\n",
        "testset_00['summary'] = testset_00['Comment'].apply(summarize_text)"
      ],
      "metadata": {
        "id": "gpmwCD3POy6B"
      },
      "execution_count": null,
      "outputs": []
    },
    {
      "cell_type": "code",
      "source": [
        "testset_00.columns"
      ],
      "metadata": {
        "colab": {
          "base_uri": "https://localhost:8080/"
        },
        "id": "kSmvvfK5O7ed",
        "outputId": "dcb9879c-13c5-44d4-d8a3-2c2365405e84"
      },
      "execution_count": null,
      "outputs": [
        {
          "output_type": "execute_result",
          "data": {
            "text/plain": [
              "Index(['Unnamed: 0', 'restaurant_name', 'Name', 'Profile Location', 'Score',\n",
              "       'Date', 'Elite 24', 'Friends', 'Reviews', 'Photos', 'reserved',\n",
              "       'pictures', 'checkin', 'Comment', 'Helpful', 'Thanks', 'Love this',\n",
              "       'Oh no', 'Reply Date', 'Reply Content', 'summary'],\n",
              "      dtype='object')"
            ]
          },
          "metadata": {},
          "execution_count": 113
        }
      ]
    },
    {
      "cell_type": "code",
      "source": [
        "trainset_00 = trainset_00[['Comment', 'summary']]"
      ],
      "metadata": {
        "id": "dnl4nodmCB1A"
      },
      "execution_count": null,
      "outputs": []
    },
    {
      "cell_type": "code",
      "source": [
        "trainset_00.to_csv('trainset_00.csv', index=False)"
      ],
      "metadata": {
        "id": "DhAlNDdKCpe1"
      },
      "execution_count": null,
      "outputs": []
    },
    {
      "cell_type": "code",
      "source": [
        "testset_00 = testset_00[['Comment', 'summary']].to_csv('testset_00.csv', index=False)"
      ],
      "metadata": {
        "id": "VFOzrSiXO4Jx"
      },
      "execution_count": null,
      "outputs": []
    },
    {
      "cell_type": "markdown",
      "source": [
        "# V1"
      ],
      "metadata": {
        "id": "Wa0trMLDjhTa"
      }
    },
    {
      "cell_type": "code",
      "source": [
        "def summarize_text(text):\n",
        "    response = client.chat.completions.create(  # Use ChatCompletion instead of Completion\n",
        "        model=\"gpt-4o-mini\",  # Update to a supported model\n",
        "        messages=[\n",
        "            {\"role\": \"system\", \"content\": \"You are a helpful assistant for reviews of restaurants.\"},\n",
        "            {\"role\": \"user\", \"content\": f\"what business issues or good feedback are mentioned in this review?:\\n\\n{text}\"}\n",
        "        ],\n",
        "        max_tokens=500\n",
        "    )\n",
        "    return response.choices[0].message.content.strip()  # Access content from message"
      ],
      "metadata": {
        "id": "M_u3MV6tjilN"
      },
      "execution_count": null,
      "outputs": []
    },
    {
      "cell_type": "code",
      "source": [
        "def extract_topics(text):\n",
        "    response = client.chat.completions.create(\n",
        "        model=\"gpt-4o-mini\",  # Use a supported chat model\n",
        "        messages=[\n",
        "            {\"role\": \"system\", \"content\": \"\"\"You are a helpful assistant for analyzing online reviews for restaurants.\n",
        "                                              You will be provided a review for a restaurant in new york city\"\"\"},\n",
        "            {\"role\": \"user\", \"content\": f\"Extract key topics of business process mentioned from the following text:\\n\\n{text}\"}\n",
        "        ],\n",
        "        max_tokens=500\n",
        "    )\n",
        "    return response.choices[0].message.content.strip()  # Extract content from the message object"
      ],
      "metadata": {
        "id": "yvNBc-Qfjljn"
      },
      "execution_count": null,
      "outputs": []
    },
    {
      "cell_type": "code",
      "source": [
        "#full dataset\n",
        "trainset['summary'] = trainset['Comment'].apply(summarize_text)"
      ],
      "metadata": {
        "id": "ZXgthABlyyPq"
      },
      "execution_count": null,
      "outputs": []
    },
    {
      "cell_type": "code",
      "source": [
        "trainset['topics'] = trainset['summary'].apply(extract_topics)"
      ],
      "metadata": {
        "id": "VtxN47jdy2Jl"
      },
      "execution_count": null,
      "outputs": []
    },
    {
      "cell_type": "code",
      "source": [
        "trainset = trainset[['Comment','summary','topics']]"
      ],
      "metadata": {
        "id": "uHDJYAG9y4DD"
      },
      "execution_count": null,
      "outputs": []
    },
    {
      "cell_type": "code",
      "source": [
        "trainset.to_csv('trainset_v1.csv', index=False)"
      ],
      "metadata": {
        "id": "2u1xSPKjy6uy"
      },
      "execution_count": null,
      "outputs": []
    },
    {
      "cell_type": "code",
      "source": [
        "testset_v1 = testset.copy()\n",
        "testset_v1['summary'] = testset_v1['Comment'].apply(summarize_text)\n",
        "testset_v1['topics'] = testset_v1['summary'].apply(extract_topics)\n",
        "testset_v1 = testset_v1[['Comment','summary','topics']]\n",
        "testset_v1.to_csv('testset_v1.csv', index=False)"
      ],
      "metadata": {
        "id": "-XfllAT1VUqO"
      },
      "execution_count": null,
      "outputs": []
    },
    {
      "cell_type": "markdown",
      "source": [
        "# v2"
      ],
      "metadata": {
        "id": "yTMuNC2W9_Yt"
      }
    },
    {
      "cell_type": "code",
      "source": [
        "def extract_topics(text):\n",
        "    response = client.chat.completions.create(\n",
        "        model=\"gpt-4o-mini\",  # Use a supported chat model\n",
        "        messages=[\n",
        "            {\"role\": \"system\", \"content\": \"You are a helpful assistant for analyzing online reviews for restaurants. You will be provided a review for a restaurant in new york city\"},\n",
        "            {\"role\": \"user\", \"content\": f\"Extract key topics of business process mentioned from the following text:\\n\\n{text}\"}\n",
        "        ],\n",
        "        max_tokens=100\n",
        "    )\n",
        "    return response.choices[0].message.content.strip()  # Extract content from the message object"
      ],
      "metadata": {
        "id": "ZpYpyq6N-DKW"
      },
      "execution_count": null,
      "outputs": []
    },
    {
      "cell_type": "code",
      "source": [
        "def summarize_text(text):\n",
        "    response = client.chat.completions.create(  # Use ChatCompletion instead of Completion\n",
        "        model=\"gpt-4o-mini\",  # Update to a supported model\n",
        "        messages=[\n",
        "            {\"role\": \"system\", \"content\": \"You are a helpful assistant for reviews of restaurants.\"},\n",
        "            {\"role\": \"user\", \"content\": f\"what business issues or good feedback are mentioned in this review?:\\n\\n{text}\"}\n",
        "        ],\n",
        "        max_tokens=500\n",
        "    )\n",
        "    return response.choices[0].message.content.strip()  # Access content from message"
      ],
      "metadata": {
        "id": "Nf1VaGp8-DKj"
      },
      "execution_count": null,
      "outputs": []
    },
    {
      "cell_type": "code",
      "source": [
        "trainset_v2 = trainset.copy()\n",
        "trainset_v2['topics'] = trainset_v2['Comment'].apply(extract_topics)\n",
        "trainset_v2['summary'] = trainset_v2['topics'].apply(summarize_text)"
      ],
      "metadata": {
        "id": "z1-DC6fvFA0v"
      },
      "execution_count": null,
      "outputs": []
    },
    {
      "cell_type": "code",
      "source": [
        "trainset_v2.to_csv('trainset_v2.csv', index=False)"
      ],
      "metadata": {
        "id": "OKPM2Qm1IJxd"
      },
      "execution_count": null,
      "outputs": []
    },
    {
      "cell_type": "code",
      "source": [
        "testset_v2 = testset.copy()\n",
        "testset_v2['topics'] = testset_v2['Comment'].apply(extract_topics)\n",
        "testset_v2['summary'] = testset_v2['topics'].apply(summarize_text)"
      ],
      "metadata": {
        "id": "mTDYE087VfOe"
      },
      "execution_count": null,
      "outputs": []
    },
    {
      "cell_type": "code",
      "source": [
        "testset_v2.to_csv('testset_v2.csv', index=False)"
      ],
      "metadata": {
        "id": "kBZjjNdLVuxh"
      },
      "execution_count": null,
      "outputs": []
    },
    {
      "cell_type": "markdown",
      "source": [
        "# Prompt Engineering: summarize and extract"
      ],
      "metadata": {
        "id": "wqaQQD7toOxj"
      }
    },
    {
      "cell_type": "code",
      "source": [
        "def summarize_text(text):\n",
        "    response = client.chat.completions.create(  # Use ChatCompletion instead of Completion\n",
        "        model=\"gpt-4o-mini\",  # Update to a supported model\n",
        "        messages=[\n",
        "            {\"role\": \"system\", \"content\": \"You are a helpful assistant for reviews of restaurants.\"},\n",
        "            {\"role\": \"user\", \"content\": f\"Summarize the following review:\\n\\n{text}\"}\n",
        "        ],\n",
        "        max_tokens=150\n",
        "    )\n",
        "    return response.choices[0].message.content.strip()  # Access content from message"
      ],
      "metadata": {
        "id": "CY78ZEbjzsWQ"
      },
      "execution_count": null,
      "outputs": []
    },
    {
      "cell_type": "code",
      "source": [
        "def extract_topics(text):\n",
        "    response = client.chat.completions.create(\n",
        "        model=\"gpt-4o-mini\",  # Use a supported chat model\n",
        "        messages=[\n",
        "            {\"role\": \"system\", \"content\": \"You are a helpful assistant for analyzing online reviews for restaurants. You will be provided a review for a restaurant in new york city\"},\n",
        "            {\"role\": \"user\", \"content\": f\"Extract key topics from the following text:\\n\\n{text}\"}\n",
        "        ],\n",
        "        max_tokens=50\n",
        "    )\n",
        "    return response.choices[0].message.content.strip()  # Extract content from the message object"
      ],
      "metadata": {
        "id": "jUDuBQYiz8r5"
      },
      "execution_count": null,
      "outputs": []
    },
    {
      "cell_type": "code",
      "source": [
        "trainset['Descriptions'] = trainset['Comment'].apply(summarize_text)"
      ],
      "metadata": {
        "id": "8UhmnDCHzzmO"
      },
      "execution_count": null,
      "outputs": []
    },
    {
      "cell_type": "code",
      "source": [
        "trainset['Categories'] = trainset['Descriptions'].apply(extract_topics)"
      ],
      "metadata": {
        "id": "xK38oUaS0C7y"
      },
      "execution_count": null,
      "outputs": []
    },
    {
      "cell_type": "code",
      "source": [
        "trainset.rename(columns={'summary':'Descriptions', 'topics':'Categories'}, inplace=True)"
      ],
      "metadata": {
        "id": "mmvPLX7oFNZ-"
      },
      "execution_count": null,
      "outputs": []
    },
    {
      "cell_type": "code",
      "source": [
        "trainset = trainset[['Comment','Descriptions','Categories']]"
      ],
      "metadata": {
        "id": "xZWjUb1OFDpy"
      },
      "execution_count": null,
      "outputs": []
    },
    {
      "cell_type": "code",
      "source": [
        "trainset.to_csv('trainset_plain_prompt.csv', index=False)"
      ],
      "metadata": {
        "id": "UPNPncTO0HtK"
      },
      "execution_count": null,
      "outputs": []
    },
    {
      "cell_type": "markdown",
      "source": [
        "# prompt plain"
      ],
      "metadata": {
        "id": "LPtR6BGMMIv1"
      }
    },
    {
      "cell_type": "code",
      "source": [
        "def extract_topics(text):\n",
        "  instructions = \"\"\"Extract main business process topics with maximum 4 from the following review.\n",
        "                    Categorize each issue under the relevant area\n",
        "                    (Food Quality, Customer Service, Cleanliness, Ambiance, Value for Money, Order Accuracy and efficiency, Waiting time, kids or pets friendly, menu choice),\n",
        "                    and provide a description under each category. no need mention topics that are not involved in the review.\"\"\"\n",
        "  output_format = \"\"\"Structure each topic as follows:\n",
        "                  - Category: <category of topics mentioned in the review>\n",
        "                  - Description: <description of the topics in the review in one sentence>\n",
        "                  \"\"\"\n",
        "  prompt = instructions + output_format + f\"\"\"the review is as follows: {text}\"\"\"\n",
        "  response = client.chat.completions.create(\n",
        "        model=\"gpt-4o-mini\",  # Use a supported chat model\n",
        "        messages=[\n",
        "            {\"role\": \"system\", \"content\": \"You are a helpful assistant for analyzing online reviews for restaurants. \"},\n",
        "            {\"role\": \"user\", \"content\": prompt}\n",
        "        ],\n",
        "        max_tokens= 150\n",
        "    )\n",
        "  return response.choices[0].message.content.strip()  # Extract content from the message object"
      ],
      "metadata": {
        "id": "VKwF-1ehMMBC"
      },
      "execution_count": null,
      "outputs": []
    },
    {
      "cell_type": "markdown",
      "source": [
        "# Prompt improved: category, description and attitude"
      ],
      "metadata": {
        "id": "PIdFzUuezmst"
      }
    },
    {
      "cell_type": "code",
      "source": [
        "def extract_topics(text):\n",
        "  instructions = \"\"\"Extract main business process topics with maximum 4 from the following review.\n",
        "                    Categorize each issue under the relevant area\n",
        "                    (Food Quality, Customer Service, Cleanliness, Ambiance, Value for Money, Order Accuracy and efficiency, Waiting time, kids or pets friendly, menu choice),\n",
        "                    and provide a description under each category. no need mention topics that are not involved in the review.\"\"\"\n",
        "  output_format = \"\"\"Structure each topic as follows:\n",
        "                  - Category: <category of topics mentioned in the review>\n",
        "                  - Desctiption: <description of the topics in the review in one sentence>\n",
        "                  \"\"\"\n",
        "  prompt = instructions + output_format + f\"\"\"the review is as follows: {text}\"\"\"\n",
        "  response = client.chat.completions.create(\n",
        "        model=\"gpt-4o-mini\",  # Use a supported chat model\n",
        "        messages=[\n",
        "            {\"role\": \"system\", \"content\": \"You are a helpful assistant for analyzing online reviews for restaurants. \"},\n",
        "            {\"role\": \"user\", \"content\": prompt}\n",
        "        ],\n",
        "        max_tokens= 150\n",
        "    )\n",
        "  return response.choices[0].message.content.strip()  # Extract content from the message object"
      ],
      "metadata": {
        "id": "Grk0cQEVgmyl"
      },
      "execution_count": null,
      "outputs": []
    },
    {
      "cell_type": "code",
      "source": [
        "trainset_prompt = pd.read_csv('trainset_prompt.csv')"
      ],
      "metadata": {
        "id": "P8nx_lc5aeUb"
      },
      "execution_count": null,
      "outputs": []
    },
    {
      "cell_type": "code",
      "source": [
        "trainset_prompt = trainset.copy()\n",
        "trainset['topics'] = trainset['Comment'].apply(extract_topics)\n",
        "trainset[['Comment','topics']]"
      ],
      "metadata": {
        "id": "AHE3tLYSg_AZ"
      },
      "execution_count": null,
      "outputs": []
    },
    {
      "cell_type": "code",
      "source": [
        "# Adjust the function to pair categories and descriptions correctly, even if lengths do not match\n",
        "def clean_extracted_data(topic_text):\n",
        "    lines = topic_text.split('\\n')\n",
        "    categories = []\n",
        "    descriptions = []\n",
        "    attitudes = []\n",
        "    for line in lines:\n",
        "        if 'Category:' in line:\n",
        "            categories.append(line.replace('- Category:', '').strip())\n",
        "        elif 'Description:' in line:\n",
        "            descriptions.append(line.replace('- Description:', '').strip())\n",
        "    # Pad the shorter list with empty strings to ensure equal length\n",
        "    max_length = max(len(categories), len(descriptions), len(attitudes))\n",
        "    categories += ['No Category'] * (max_length - len(categories))\n",
        "    descriptions += ['No Description'] * (max_length - len(descriptions))\n",
        "    return categories, descriptions"
      ],
      "metadata": {
        "id": "9ejpzWmtD4b1"
      },
      "execution_count": null,
      "outputs": []
    },
    {
      "cell_type": "code",
      "source": [
        "# Apply the updated function to each row\n",
        "validation['Categories'], validation['Descriptions'] = zip(*validation['topics'].copy().apply(clean_extracted_data))"
      ],
      "metadata": {
        "id": "XJ-3UFZVD_Oo"
      },
      "execution_count": null,
      "outputs": []
    },
    {
      "cell_type": "code",
      "source": [
        "# Apply the updated function to each row\n",
        "validation['Categories'], validation['Descriptions'] = zip(*validation['topics'].copy().apply(clean_extracted_data))"
      ],
      "metadata": {
        "id": "yqnoyyp2ZwMb"
      },
      "execution_count": null,
      "outputs": []
    },
    {
      "cell_type": "code",
      "source": [
        "trainset.to_csv('trainset_prompt.csv')"
      ],
      "metadata": {
        "id": "uxi6Kr4yuTjv"
      },
      "execution_count": null,
      "outputs": []
    },
    {
      "cell_type": "markdown",
      "source": [
        "# Validation reformat"
      ],
      "metadata": {
        "id": "0BcdW6dWMwQg"
      }
    },
    {
      "cell_type": "code",
      "source": [
        "validation = pd.read_csv('correct_labels.csv')"
      ],
      "metadata": {
        "id": "Oov0Zo22rjWz"
      },
      "execution_count": null,
      "outputs": []
    },
    {
      "cell_type": "code",
      "source": [
        "validation = validation[['Comment', 'topics', 'c1', 'd1', 'c2', 'd2', 'c3', 'd3',\n",
        "      'c4', 'd4', 'missing', 'c5']]"
      ],
      "metadata": {
        "id": "tk2_c17hrwTI"
      },
      "execution_count": null,
      "outputs": []
    },
    {
      "cell_type": "code",
      "source": [
        "# Adjust the function to pair categories and descriptions correctly, even if lengths do not match\n",
        "def clean_extracted_data(topic_text):\n",
        "    lines = topic_text.split('\\n')\n",
        "    categories = []\n",
        "    descriptions = []\n",
        "    for line in lines:\n",
        "        if 'Category:' in line:\n",
        "            categories.append(line.replace('- Category:', '').strip())\n",
        "        elif 'Description:' in line:\n",
        "            descriptions.append(line.replace('- Description:', '').strip())\n",
        "    # Pad the shorter list with empty strings to ensure equal length\n",
        "    max_length = max(len(categories), len(descriptions))\n",
        "    categories += ['No Category'] * (max_length - len(categories))\n",
        "    descriptions += ['No Description'] * (max_length - len(descriptions))\n",
        "    return categories, descriptions"
      ],
      "metadata": {
        "id": "N6k7pXwTxBld"
      },
      "execution_count": null,
      "outputs": []
    },
    {
      "cell_type": "code",
      "source": [
        "# Apply the updated function to each row\n",
        "validation['Categories'], validation['Descriptions']= zip(*validation['topics'].copy().apply(clean_extracted_data))"
      ],
      "metadata": {
        "id": "ef9SkZ67xJhK"
      },
      "execution_count": null,
      "outputs": []
    },
    {
      "cell_type": "code",
      "source": [
        "def calculate_accuracies_with_percentage(row):\n",
        "    issue_flag = False\n",
        "\n",
        "    # Calculate the accuracy for categories\n",
        "    if not math.isnan(row['missing']):\n",
        "      category_scores = row[['c1', 'c2', 'c3', 'c4','missing']].sum(skipna=True)\n",
        "      category_length = len(row['Categories']) + 1\n",
        "    else:\n",
        "      category_scores = row[['c1', 'c2', 'c3', 'c4']].sum(skipna=True)\n",
        "      category_length = len(row['Categories'])\n",
        "    category_accuracy = category_scores / category_length\n",
        "\n",
        "    # Calculate the accuracy for descriptions\n",
        "    description_scores = row[['d1', 'd2', 'd3', 'd4']].sum(skipna=True)\n",
        "    description_length = len(row['Descriptions'])\n",
        "    description_accuracy = description_scores/description_length\n",
        "\n",
        "    # Final score as the average of the three accuracies\n",
        "    final_score = (category_accuracy + description_accuracy) / 2\n",
        "\n",
        "    return pd.Series({\n",
        "        'Category Accuracy (%)': category_accuracy*100,\n",
        "        'Description Accuracy (%)': description_accuracy*100,\n",
        "        'Final Score (%)': final_score*100,\n",
        "        'Data Issue Flag': issue_flag\n",
        "    })"
      ],
      "metadata": {
        "id": "QDIyjKqLGeU2"
      },
      "execution_count": null,
      "outputs": []
    },
    {
      "cell_type": "code",
      "source": [
        "result_with_percentage['Final Score (%)'].value_counts()"
      ],
      "metadata": {
        "colab": {
          "base_uri": "https://localhost:8080/"
        },
        "id": "6XAUvTdrxSFa",
        "outputId": "9369efe5-715a-464a-fc94-738f987ccfe7"
      },
      "execution_count": null,
      "outputs": [
        {
          "output_type": "execute_result",
          "data": {
            "text/plain": [
              "Final Score (%)\n",
              "100.0    50\n",
              "Name: count, dtype: int64"
            ],
            "text/html": [
              "<div>\n",
              "<style scoped>\n",
              "    .dataframe tbody tr th:only-of-type {\n",
              "        vertical-align: middle;\n",
              "    }\n",
              "\n",
              "    .dataframe tbody tr th {\n",
              "        vertical-align: top;\n",
              "    }\n",
              "\n",
              "    .dataframe thead th {\n",
              "        text-align: right;\n",
              "    }\n",
              "</style>\n",
              "<table border=\"1\" class=\"dataframe\">\n",
              "  <thead>\n",
              "    <tr style=\"text-align: right;\">\n",
              "      <th></th>\n",
              "      <th>count</th>\n",
              "    </tr>\n",
              "    <tr>\n",
              "      <th>Final Score (%)</th>\n",
              "      <th></th>\n",
              "    </tr>\n",
              "  </thead>\n",
              "  <tbody>\n",
              "    <tr>\n",
              "      <th>100.0</th>\n",
              "      <td>50</td>\n",
              "    </tr>\n",
              "  </tbody>\n",
              "</table>\n",
              "</div><br><label><b>dtype:</b> int64</label>"
            ]
          },
          "metadata": {},
          "execution_count": 49
        }
      ]
    },
    {
      "cell_type": "code",
      "source": [
        "# Apply the function to the dataset\n",
        "accuracies_with_percentage = validation.apply(calculate_accuracies_with_percentage, axis=1)\n",
        "\n",
        "# Combine with the original data\n",
        "result_with_percentage = pd.concat([validation, accuracies_with_percentage], axis=1)\n",
        "result_with_percentage"
      ],
      "metadata": {
        "id": "1ggnuDbRJLCN"
      },
      "execution_count": null,
      "outputs": []
    },
    {
      "cell_type": "code",
      "source": [
        "result_with_percentage.to_csv('correct_labels_cleaned.csv')"
      ],
      "metadata": {
        "id": "GyVeKuEzxYR9"
      },
      "execution_count": null,
      "outputs": []
    }
  ]
}
